{
 "cells": [
  {
   "cell_type": "code",
   "execution_count": 1,
   "id": "c645388a-30f8-4739-83a7-88e0fb2f0492",
   "metadata": {},
   "outputs": [
    {
     "name": "stdout",
     "output_type": "stream",
     "text": [
      "1\n"
     ]
    }
   ],
   "source": [
    "print(1)"
   ]
  },
  {
   "cell_type": "code",
   "execution_count": 10,
   "id": "e4b269e6-23ea-42df-9b32-441db5a8d2f5",
   "metadata": {},
   "outputs": [
    {
     "name": "stderr",
     "output_type": "stream",
     "text": [
      "SyntaxError: Expected TokenType.LBRACE, but got TokenType.COLON at line 17: for line in pip_list.split('\\n'):"
     ]
    }
   ],
   "source": [
    "import \"sys\" as sys\n",
    "import \"subprocess\" as subprocess\n",
    "import \"importlib.metadata\" as metadata\n",
    "\n",
    "//1. What Python is this notebook kernel using?\n",
    "print(\"--- Jupyter Kernel's Python ---\")\n",
    "print(sys.executable)\n",
    "print(\"-\" * 30)\n",
    "\n",
    "// 2. What packages are installed in THIS environment?\n",
    "// We run 'pip list' from the kernel's own python executable\n",
    "print(\"--- Packages installed for this kernel ---\")\n",
    "try{\n",
    "    // We use subprocess to be 100% sure we're checking the right pip\n",
    "    pip_list = subprocess.check_output([sys.executable, '-m', 'pip', 'list']).decode()\n",
    "    found_package = False\n",
    "    for line in pip_list.split('\\n'){\n",
    "        if 'mlscript-interpreter' in line{\n",
    "            print(line)\n",
    "            found_package = True\n",
    "            }\n",
    "        }\n",
    "    if not found_package{\n",
    "        print(\"FAILURE: 'mlscript-interpreter' package not found.\")\n",
    "    }\n",
    "}\n",
    "except Exception as e{\n",
    "    print(\"Could not run pip list: \",e)\n",
    "}\n",
    "print(\"-\" * 30)\n",
    "\n",
    "// 3. Can THIS environment find the Pygments entry point?\n",
    "print(\"--- Pygments Entry Point Discovery ---\")\n",
    "try{\n",
    "    lexer_entry_point = importlib.metadata.entry_points(group='pygments.lexers')['mlscript']\n",
    "    print(\"SUCCESS: Found the entry point!\")\n",
    "    print(lexer_entry_point)\n",
    "}\n",
    "except KeyError{\n",
    "    print(\"FAILURE: The 'mlscript' lexer is NOT registered in this environment.\")\n",
    "}\n",
    "except Exception as e{\n",
    "    print(\"An error occurred: \",e)\n",
    "}"
   ]
  },
  {
   "cell_type": "code",
   "execution_count": null,
   "id": "c6586b00-f198-498e-b359-de45dba2d506",
   "metadata": {},
   "outputs": [],
   "source": []
  }
 ],
 "metadata": {
  "kernelspec": {
   "display_name": "mlscript",
   "language": "mlscript",
   "name": "mlscript"
  },
  "language_info": {
   "file_extension": ".ms",
   "mimetype": "text/plain",
   "name": "mlscript"
  }
 },
 "nbformat": 4,
 "nbformat_minor": 5
}
