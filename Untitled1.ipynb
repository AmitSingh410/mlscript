{
 "cells": [
  {
   "cell_type": "code",
   "execution_count": 1,
   "id": "c645388a-30f8-4739-83a7-88e0fb2f0492",
   "metadata": {},
   "outputs": [
    {
     "name": "stdout",
     "output_type": "stream",
     "text": [
      "1\n"
     ]
    }
   ],
   "source": [
    "print(1)"
   ]
  },
  {
   "cell_type": "code",
   "execution_count": 1,
   "id": "e4b269e6-23ea-42df-9b32-441db5a8d2f5",
   "metadata": {},
   "outputs": [
    {
     "name": "stdout",
     "output_type": "stream",
     "text": [
      "--- Jupyter Kernel's Python ---\n",
      "c:\\Users\\amits\\Documents\\Projects\\mlscript\\.venv\\Scripts\\python.exe\n",
      "------------------------------\n",
      "--- Packages installed for this kernel ---\n",
      "FAILURE: 'mlscript-interpreter' package not found.\n",
      "------------------------------\n",
      "--- Pygments Entry Point Discovery ---\n",
      "SUCCESS: Found the entry point!\n",
      "EntryPoint(name='mlscript', value='interpreter.lexer_pygments:MlscriptLexer', group='pygments.lexers')\n"
     ]
    }
   ],
   "source": [
    "import sys\n",
    "import subprocess\n",
    "import importlib.metadata\n",
    "\n",
    "# 1. What Python is this notebook kernel using?\n",
    "print(f\"--- Jupyter Kernel's Python ---\")\n",
    "print(sys.executable)\n",
    "print(\"-\" * 30)\n",
    "\n",
    "# 2. What packages are installed in THIS environment?\n",
    "# We run 'pip list' from the kernel's own python executable\n",
    "print(\"--- Packages installed for this kernel ---\")\n",
    "try:\n",
    "    # We use subprocess to be 100% sure we're checking the right pip\n",
    "    pip_list = subprocess.check_output([sys.executable, '-m', 'pip', 'list']).decode()\n",
    "    found_package = False\n",
    "    for line in pip_list.split('\\n'):\n",
    "        if 'mlscript-interpreter' in line:\n",
    "            print(line)\n",
    "            found_package = True\n",
    "    if not found_package:\n",
    "        print(\"FAILURE: 'mlscript-interpreter' package not found.\")\n",
    "except Exception as e:\n",
    "    print(f\"Could not run pip list: {e}\")\n",
    "print(\"-\" * 30)\n",
    "\n",
    "# 3. Can THIS environment find the Pygments entry point?\n",
    "print(\"--- Pygments Entry Point Discovery ---\")\n",
    "try:\n",
    "    lexer_entry_point = importlib.metadata.entry_points(group='pygments.lexers')['mlscript']\n",
    "    print(\"SUCCESS: Found the entry point!\")\n",
    "    print(lexer_entry_point)\n",
    "except KeyError:\n",
    "    print(\"FAILURE: The 'mlscript' lexer is NOT registered in this environment.\")\n",
    "except Exception as e:\n",
    "    print(f\"An error occurred: {e}\")"
   ]
  },
  {
   "cell_type": "code",
   "execution_count": null,
   "id": "c6586b00-f198-498e-b359-de45dba2d506",
   "metadata": {},
   "outputs": [],
   "source": []
  }
 ],
 "metadata": {
  "kernelspec": {
   "display_name": "mlscript",
   "language": "mlscript",
   "name": "mlscript"
  },
  "language_info": {
   "file_extension": ".ms",
   "mimetype": "text/plain",
   "name": "mlscript"
  }
 },
 "nbformat": 4,
 "nbformat_minor": 5
}
