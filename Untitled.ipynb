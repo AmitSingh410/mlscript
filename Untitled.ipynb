{
 "cells": [
  {
   "cell_type": "code",
   "execution_count": 9,
   "id": "7a2840c0-bc7b-4dd3-b792-e5c9e985c799",
   "metadata": {},
   "outputs": [
    {
     "name": "stdout",
     "output_type": "stream",
     "text": [
      "1\n"
     ]
    }
   ],
   "source": [
    "print(1)"
   ]
  },
  {
   "cell_type": "code",
   "execution_count": 10,
   "id": "52090b29-848e-455d-bc29-4cb533124355",
   "metadata": {},
   "outputs": [
    {
     "name": "stdout",
     "output_type": "stream",
     "text": [
      "Tensor(\n",
      "11 22\n",
      "33 44\n",
      ")\n"
     ]
    }
   ],
   "source": [
    "t1 = tensor([[1,2],[3,4]])\n",
    "t2 = tensor([[10,20],[30,40]])\n",
    "print(t1+t2)"
   ]
  },
  {
   "cell_type": "code",
   "execution_count": 19,
   "id": "6afd4304-bb93-4397-b16f-95be00ccecee",
   "metadata": {},
   "outputs": [
    {
     "name": "stdout",
     "output_type": "stream",
     "text": [
      "1\n"
     ]
    }
   ],
   "source": [
    "fun hello()\n",
    "{print(1)\n",
    "return 2}\n",
    "hello()"
   ]
  },
  {
   "cell_type": "code",
   "execution_count": 20,
   "id": "cc204712-4791-491a-8d8b-d78578d18bf1",
   "metadata": {},
   "outputs": [
    {
     "name": "stdout",
     "output_type": "stream",
     "text": [
      "1\n",
      "2\n"
     ]
    }
   ],
   "source": [
    "print(hello())\n"
   ]
  },
  {
   "cell_type": "code",
   "execution_count": null,
   "id": "e6eb7713-0924-4ece-b168-61d51499f940",
   "metadata": {},
   "outputs": [],
   "source": []
  }
 ],
 "metadata": {
  "kernelspec": {
   "display_name": "mlscript",
   "language": "mlscript",
   "name": "mlscript"
  },
  "language_info": {
   "file_extension": ".ms",
   "mimetype": "text/plain",
   "name": "mlscript"
  }
 },
 "nbformat": 4,
 "nbformat_minor": 5
}
